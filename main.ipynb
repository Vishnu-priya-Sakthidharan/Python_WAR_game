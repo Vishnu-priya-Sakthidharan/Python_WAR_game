{
 "cells": [
  {
   "cell_type": "markdown",
   "metadata": {},
   "source": [
    "Logic of the game:\n",
    "\n",
    "Deck having 52 cards is shuffled and split equally between 2 computer players. If 1st player's card is jack and 2nd player's card is king, since king is the highest, 2nd player gets one point. if both players card is \"jack\", then it is a situation of war. both players take extra card from the deck , shuffles again and shows the new card from the extra cards. Player having more number of card wins. "
   ]
  },
  {
   "cell_type": "markdown",
   "metadata": {},
   "source": [
    "# Global Variables"
   ]
  },
  {
   "cell_type": "code",
   "execution_count": 79,
   "metadata": {},
   "outputs": [],
   "source": [
    "import random\n",
    "\n",
    "suits = ('Hearts','Diamonds','Spades','Clubs')\n",
    "\n",
    "ranks = ('Two','Three','Four','Five','Six','Seven','Eight','Nine','Ten','Jack','Queen','King','Ace')\n",
    "\n",
    "values = {'Two' : 2, 'Three' :3 , 'Four' : 4, 'Five' :5, 'Six' : 6, 'Seven' : 7,'Eight':8,'Nine':9,\n",
    "          'Ten':10,'Jack':11,'Queen':12, 'King':13, 'Ace':14}"
   ]
  },
  {
   "cell_type": "markdown",
   "metadata": {},
   "source": [
    "# Creating the card class"
   ]
  },
  {
   "cell_type": "markdown",
   "metadata": {},
   "source": [
    "Card consists of Suit, rank, Value"
   ]
  },
  {
   "cell_type": "code",
   "execution_count": 80,
   "metadata": {},
   "outputs": [],
   "source": [
    "class Card:\n",
    "\n",
    "    def __init__(self,suit,rank):\n",
    "        self.suit = suit\n",
    "        self.rank = rank\n",
    "        self.value = values[rank]\n",
    "\n",
    "    def __str__(self):\n",
    "        return self.rank + ' of ' + self.suit\n",
    "        "
   ]
  },
  {
   "cell_type": "code",
   "execution_count": 81,
   "metadata": {},
   "outputs": [],
   "source": [
    "two_hearts = Card('Hearts','Two')"
   ]
  },
  {
   "cell_type": "code",
   "execution_count": 82,
   "metadata": {},
   "outputs": [
    {
     "name": "stdout",
     "output_type": "stream",
     "text": [
      "Two of Hearts\n"
     ]
    }
   ],
   "source": [
    "print(two_hearts)"
   ]
  },
  {
   "cell_type": "code",
   "execution_count": 83,
   "metadata": {},
   "outputs": [
    {
     "data": {
      "text/plain": [
       "2"
      ]
     },
     "execution_count": 83,
     "metadata": {},
     "output_type": "execute_result"
    }
   ],
   "source": [
    "two_hearts.value"
   ]
  },
  {
   "cell_type": "code",
   "execution_count": 84,
   "metadata": {},
   "outputs": [
    {
     "data": {
      "text/plain": [
       "'Hearts'"
      ]
     },
     "execution_count": 84,
     "metadata": {},
     "output_type": "execute_result"
    }
   ],
   "source": [
    "two_hearts.suit"
   ]
  },
  {
   "cell_type": "markdown",
   "metadata": {},
   "source": [
    "# Creating the Deck class"
   ]
  },
  {
   "cell_type": "markdown",
   "metadata": {},
   "source": [
    "Deck consists of 52 cards having 13 hearts, 13 spades, 13 diamonds and 13 clubs. Here we are creating a Deck class with the help of Card class created previously"
   ]
  },
  {
   "cell_type": "code",
   "execution_count": 85,
   "metadata": {},
   "outputs": [],
   "source": [
    "class Deck:\n",
    "\n",
    "    def __init__(self):\n",
    "        \n",
    "        self.all_cards = []\n",
    "\n",
    "        for suit in suits:\n",
    "            for rank in ranks:\n",
    "                self.all_cards.append(Card(suit,rank))\n",
    "\n",
    "    def shuffle(self):\n",
    "        random.shuffle(self.all_cards)\n",
    "\n",
    "    # method used to split the cards equally between 2 players\n",
    "    def pop_one(self):\n",
    "        return self.all_cards.pop()\n",
    "\n",
    "    def __len__(self):\n",
    "        return len(self.all_cards)\n"
   ]
  },
  {
   "cell_type": "code",
   "execution_count": 86,
   "metadata": {},
   "outputs": [],
   "source": [
    "new_deck = Deck()"
   ]
  },
  {
   "cell_type": "code",
   "execution_count": 87,
   "metadata": {},
   "outputs": [
    {
     "name": "stdout",
     "output_type": "stream",
     "text": [
      "<__main__.Deck object at 0x0000020F7FC5F800>\n"
     ]
    }
   ],
   "source": [
    "print(new_deck)"
   ]
  },
  {
   "cell_type": "code",
   "execution_count": 88,
   "metadata": {},
   "outputs": [],
   "source": [
    "new_deck.shuffle()"
   ]
  },
  {
   "cell_type": "code",
   "execution_count": 89,
   "metadata": {},
   "outputs": [],
   "source": [
    "bottom_card = new_deck.all_cards[-1]"
   ]
  },
  {
   "cell_type": "code",
   "execution_count": 90,
   "metadata": {},
   "outputs": [
    {
     "name": "stdout",
     "output_type": "stream",
     "text": [
      "King of Diamonds\n"
     ]
    }
   ],
   "source": [
    "print(bottom_card)"
   ]
  },
  {
   "cell_type": "code",
   "execution_count": 91,
   "metadata": {},
   "outputs": [
    {
     "name": "stdout",
     "output_type": "stream",
     "text": [
      "Queen of Diamonds\n"
     ]
    }
   ],
   "source": [
    "first_card = new_deck.all_cards[0]\n",
    "print(first_card)"
   ]
  },
  {
   "cell_type": "code",
   "execution_count": 92,
   "metadata": {},
   "outputs": [
    {
     "data": {
      "text/plain": [
       "<__main__.Card at 0x20f7fc5c260>"
      ]
     },
     "execution_count": 92,
     "metadata": {},
     "output_type": "execute_result"
    }
   ],
   "source": [
    "new_deck.pop_one()"
   ]
  },
  {
   "cell_type": "code",
   "execution_count": 93,
   "metadata": {},
   "outputs": [
    {
     "name": "stdout",
     "output_type": "stream",
     "text": [
      "51\n"
     ]
    }
   ],
   "source": [
    "print(len(new_deck.all_cards))"
   ]
  },
  {
   "cell_type": "markdown",
   "metadata": {},
   "source": [
    "# Creating the player class\n",
    "\n",
    "    This class will be used to hold player's current list of cards. Player should be able to add or remove cards from their hand(list of card objects)"
   ]
  },
  {
   "cell_type": "code",
   "execution_count": 94,
   "metadata": {},
   "outputs": [],
   "source": [
    "class Player:\n",
    "\n",
    "    def __init__(self,name):\n",
    "        self.name = name\n",
    "        self.all_cards = [] # every player will have no cards at first\n",
    "\n",
    "    def add_cards(self,new_cards):\n",
    "        if type(new_cards) == type([]): # if there are multiple cards to add\n",
    "            self.all_cards.extend(new_cards) # extend() will add elements individually to the existing list eg : ['A','B','X','Y']\n",
    "        else:\n",
    "            self.all_cards.append(new_cards) # append() will just append the new element eg : ['A','B',['X','Y']]\n",
    "\n",
    "    def remove_card(self):\n",
    "        return self.all_cards.pop(0) # we usually take the 1st card from the deck so index is 0 here\n",
    "    \n",
    "    def __str__(self):\n",
    "        return f'Player {self.name} has {len(self.all_cards)} cards.'"
   ]
  },
  {
   "cell_type": "code",
   "execution_count": 95,
   "metadata": {},
   "outputs": [],
   "source": [
    "new_player = Player('Vishnu')"
   ]
  },
  {
   "cell_type": "code",
   "execution_count": 96,
   "metadata": {},
   "outputs": [
    {
     "name": "stdout",
     "output_type": "stream",
     "text": [
      "Player Vishnu has 0 cards.\n"
     ]
    }
   ],
   "source": [
    "print(new_player)"
   ]
  },
  {
   "cell_type": "code",
   "execution_count": 104,
   "metadata": {},
   "outputs": [
    {
     "name": "stdout",
     "output_type": "stream",
     "text": [
      "52\n",
      "player one cards : 26\n"
     ]
    }
   ],
   "source": [
    "# Game setup\n",
    "\n",
    "# creating two players\n",
    "\n",
    "player_one = Player('One')\n",
    "player_two = Player('Two')\n",
    "\n",
    "# creating a new deck \n",
    "\n",
    "new_deck = Deck()\n",
    "\n",
    "print(len(new_deck))\n",
    "\n",
    "#shuffling the new_deck\n",
    "\n",
    "new_deck.shuffle()\n",
    "\n",
    "#splitting the new deck between two players\n",
    "\n",
    "for x in range(26):\n",
    "    player_one.add_cards(new_deck.pop_one())\n",
    "    player_two.add_cards(new_deck.pop_one())\n",
    "\n",
    "print(f'player one cards : {len(player_one.all_cards)}')\n",
    "\n"
   ]
  },
  {
   "cell_type": "code",
   "execution_count": 105,
   "metadata": {},
   "outputs": [
    {
     "name": "stdout",
     "output_type": "stream",
     "text": [
      "Hello! Lets play the Card War game :-)\n",
      "Round 1:\n",
      "Round 2:\n",
      "Round 3:\n",
      "Round 4:\n",
      "Round 5:\n",
      "Round 6:\n",
      "Round 7:\n",
      "Round 8:\n",
      "Round 9:\n",
      "Round 10:\n",
      "Round 11:\n",
      "Round 12:\n",
      "Round 13:\n",
      "Round 14:\n",
      "AT WAR\n",
      "Round 15:\n",
      "Round 16:\n",
      "Round 17:\n",
      "Round 18:\n",
      "Round 19:\n",
      "Round 20:\n",
      "Round 21:\n",
      "Round 22:\n",
      "Round 23:\n",
      "AT WAR\n",
      "Round 24:\n",
      "Round 25:\n",
      "Round 26:\n",
      "Round 27:\n",
      "Round 28:\n",
      "Round 29:\n",
      "Round 30:\n",
      "AT WAR\n",
      "AT WAR\n",
      "Player 2 has not enough cards to play!\n",
      "Player 1 Wins !\n"
     ]
    }
   ],
   "source": [
    "# game starts\n",
    "game_on = True\n",
    "rounds_num = 0\n",
    "print ('Hello! Lets play the Card War game :-)')\n",
    "\n",
    "while game_on:\n",
    "    \n",
    "    rounds_num += 1\n",
    "    print(f'Round {rounds_num}:')\n",
    "\n",
    "    # checking if player is having cards or not\n",
    "    if len(player_one.all_cards) == 0:\n",
    "        print('Player One, out of cards! Player two Wins!')\n",
    "        game_on = False\n",
    "        break\n",
    "\n",
    "    if len(player_two.all_cards) == 0:\n",
    "        print('Player Two, out of cards! Player One Wins!')\n",
    "        game_on = False\n",
    "        break\n",
    "\n",
    "    # at the start of game\n",
    "    # player_one has 26 cards in (player_one.all_cards). \n",
    "    # player_one has to take one card from 26 cards and that card will be compared with player_two card\n",
    "    # that one card will be added to (playerOne_card_inHand)\n",
    "    playerOne_card_inHand = []\n",
    "    playerOne_card_inHand.append(player_one.remove_card())# removing one card from all_cards and adding that to playerOne_card_inHand\n",
    "\n",
    "    playerTwo_card_inHand = []\n",
    "    playerTwo_card_inHand.append(player_two.remove_card())\n",
    "\n",
    "    at_war = True\n",
    "\n",
    "    while at_war:\n",
    "\n",
    "        # if player_one card's value is high,\n",
    "        if playerOne_card_inHand[-1].value > playerTwo_card_inHand[-1].value:\n",
    "            player_one.add_cards(playerOne_card_inHand)\n",
    "            player_one.add_cards(playerTwo_card_inHand)\n",
    "            at_war = False\n",
    "\n",
    "        # if player_two card's value is high,\n",
    "        elif playerOne_card_inHand[-1].value < playerTwo_card_inHand[-1].value:\n",
    "            player_two.add_cards(playerTwo_card_inHand)\n",
    "            player_two.add_cards(playerOne_card_inHand)\n",
    "            at_war = False\n",
    "\n",
    "        # in case of war i.e if both players card are same, \n",
    "        else:\n",
    "            print('AT WAR')\n",
    "            # if player is having cards less than 5,\n",
    "            if len(player_one.all_cards) < 5:\n",
    "                print(\"Player 1 has not enough cards to play!\")\n",
    "                print('Player 2 Wins !')\n",
    "                game_on = False\n",
    "                break\n",
    "            elif len(player_two.all_cards) <5:\n",
    "                print('Player 2 has not enough cards to play!')\n",
    "                print('Player 1 Wins !')\n",
    "                game_on = False\n",
    "                break\n",
    "            else:\n",
    "                #in case of war, each player has to take 5 cards from player_###.all_cards and add that to inHand list and continue playing\n",
    "                for num in range(0,5):\n",
    "                    playerOne_card_inHand.append(player_one.remove_card())\n",
    "                    playerTwo_card_inHand.append(player_two.remove_card())\n",
    "\n"
   ]
  },
  {
   "cell_type": "code",
   "execution_count": null,
   "metadata": {},
   "outputs": [],
   "source": [
    "\n"
   ]
  },
  {
   "cell_type": "code",
   "execution_count": null,
   "metadata": {},
   "outputs": [],
   "source": []
  }
 ],
 "metadata": {
  "kernelspec": {
   "display_name": "base",
   "language": "python",
   "name": "python3"
  },
  "language_info": {
   "codemirror_mode": {
    "name": "ipython",
    "version": 3
   },
   "file_extension": ".py",
   "mimetype": "text/x-python",
   "name": "python",
   "nbconvert_exporter": "python",
   "pygments_lexer": "ipython3",
   "version": "3.12.7"
  }
 },
 "nbformat": 4,
 "nbformat_minor": 2
}
